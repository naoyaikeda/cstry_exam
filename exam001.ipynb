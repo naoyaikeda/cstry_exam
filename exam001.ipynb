{
 "cells": [
  {
   "cell_type": "code",
   "execution_count": 1,
   "metadata": {},
   "outputs": [],
   "source": [
    "using System;"
   ]
  },
  {
   "cell_type": "code",
   "execution_count": 2,
   "metadata": {},
   "outputs": [
    {
     "data": {
      "text/html": [
       "Installing package Microsoft.Data.Analysis, version 0.2.0....................done!"
      ]
     },
     "metadata": {},
     "output_type": "display_data"
    },
    {
     "data": {
      "text/html": [
       "Successfully added reference to package Microsoft.Data.Analysis, version "
      ]
     },
     "metadata": {},
     "output_type": "display_data"
    }
   ],
   "source": [
    "#r \"nuget:Microsoft.Data.Analysis, 0.2.0\""
   ]
  },
  {
   "cell_type": "code",
   "execution_count": 3,
   "metadata": {},
   "outputs": [],
   "source": [
    "using Microsoft.Data.Analysis;"
   ]
  },
  {
   "cell_type": "code",
   "execution_count": 4,
   "metadata": {},
   "outputs": [
    {
     "data": {
      "text/html": [
       "Installing package MathNet.Numerics, version 4.9.0.....done!"
      ]
     },
     "metadata": {},
     "output_type": "display_data"
    },
    {
     "data": {
      "text/html": [
       "Successfully added reference to package MathNet.Numerics, version "
      ]
     },
     "metadata": {},
     "output_type": "display_data"
    }
   ],
   "source": [
    "#r \"nuget:MathNet.Numerics,4.9.0\""
   ]
  },
  {
   "cell_type": "code",
   "execution_count": 5,
   "metadata": {},
   "outputs": [
    {
     "data": {
      "text/html": [
       "Installing package XPlot.Plotly.....done!"
      ]
     },
     "metadata": {},
     "output_type": "display_data"
    },
    {
     "data": {
      "text/html": [
       "Successfully added reference to package XPlot.Plotly, version "
      ]
     },
     "metadata": {},
     "output_type": "display_data"
    }
   ],
   "source": [
    "#r \"nuget:XPlot.Plotly\""
   ]
  },
  {
   "cell_type": "code",
   "execution_count": 6,
   "metadata": {},
   "outputs": [],
   "source": [
    "var df = Microsoft.Data.Analysis.DataFrame.LoadCsv(\"Data/german.csv\");"
   ]
  },
  {
   "cell_type": "code",
   "execution_count": 7,
   "metadata": {},
   "outputs": [
    {
     "data": {
      "text/html": [
       "<table><thead><tr><th>Columns</th><th>Rows</th></tr></thead><tbody><tr><td>[ [ 0, 1, 2, 3, 4, 5, 6, 7, 8, 9 ... (990 more) ], [ A11, A12, A14, A11, A11, A14, A14, A12, A14, A12 ... (990 more) ], [ 6, 48, 12, 42, 24, 36, 24, 36, 12, 30 ... (990 more) ], [ A34, A32, A34, A32, A33, A32, A32, A32, A32, A34 ... (990 more) ], [ A43, A43, A46, A42, A40, A46, A42, A41, A43, A40 ... (990 more) ], [ 1169, 5951, 2096, 7882, 4870, 9055, 2835, 6948, 3059, 5234 ... (990 more) ], [ A65, A61, A61, A61, A61, A65, A63, A61, A64, A61 ... (990 more) ], [ A75, A73, A74, A74, A73, A73, A75, A73, A74, A71 ... (990 more) ], [ 4, 2, 2, 2, 3, 2, 3, 2, 2, 4 ... (990 more) ], [ A93, A92, A93, A93, A93, A93, A93, A93, A91, A94 ... (990 more) ] ... (12 more) ]</td><td>[ [ 0, A11, 6, A34, A43, 1169, A65, A75, 4, A93 ... (12 more) ], [ 1, A12, 48, A32, A43, 5951, A61, A73, 2, A92 ... (12 more) ], [ 2, A14, 12, A34, A46, 2096, A61, A74, 2, A93 ... (12 more) ], [ 3, A11, 42, A32, A42, 7882, A61, A74, 2, A93 ... (12 more) ], [ 4, A11, 24, A33, A40, 4870, A61, A73, 3, A93 ... (12 more) ], [ 5, A14, 36, A32, A46, 9055, A65, A73, 2, A93 ... (12 more) ], [ 6, A14, 24, A32, A42, 2835, A63, A75, 3, A93 ... (12 more) ], [ 7, A12, 36, A32, A41, 6948, A61, A73, 2, A93 ... (12 more) ], [ 8, A14, 12, A32, A43, 3059, A64, A74, 2, A91 ... (12 more) ], [ 9, A12, 30, A34, A40, 5234, A61, A71, 4, A94 ... (12 more) ] ... (990 more) ]</td></tr></tbody></table>"
      ]
     },
     "execution_count": 7,
     "metadata": {},
     "output_type": "execute_result"
    }
   ],
   "source": [
    "df"
   ]
  },
  {
   "cell_type": "code",
   "execution_count": 8,
   "metadata": {},
   "outputs": [
    {
     "data": {
      "text/html": [
       "<table><thead><tr><th><i>index</i></th><th>NullCount</th><th>Length</th><th>Name</th><th>DataType</th></tr></thead><tbody><tr><td>0</td><td>0</td><td>1000</td><td></td><td>System.Single</td></tr><tr><td>1</td><td>0</td><td>1000</td><td>Status of existing checking account</td><td>System.String</td></tr><tr><td>2</td><td>0</td><td>1000</td><td>Duration in month</td><td>System.Single</td></tr><tr><td>3</td><td>0</td><td>1000</td><td>Credit history</td><td>System.String</td></tr><tr><td>4</td><td>0</td><td>1000</td><td>Purpose</td><td>System.String</td></tr><tr><td>5</td><td>0</td><td>1000</td><td>Credit amount</td><td>System.Single</td></tr><tr><td>6</td><td>0</td><td>1000</td><td>Savings account/bonds</td><td>System.String</td></tr><tr><td>7</td><td>0</td><td>1000</td><td>Present employment since</td><td>System.String</td></tr><tr><td>8</td><td>0</td><td>1000</td><td>Installment rate in percentage of disposable income</td><td>System.Single</td></tr><tr><td>9</td><td>0</td><td>1000</td><td>Personal status and sex</td><td>System.String</td></tr><tr><td>10</td><td>0</td><td>1000</td><td>Other debtors / guarantors</td><td>System.String</td></tr><tr><td>11</td><td>0</td><td>1000</td><td>Present residence since</td><td>System.Single</td></tr><tr><td>12</td><td>0</td><td>1000</td><td>Property</td><td>System.String</td></tr><tr><td>13</td><td>0</td><td>1000</td><td>Age in years</td><td>System.Single</td></tr><tr><td>14</td><td>0</td><td>1000</td><td>Other installment plans</td><td>System.String</td></tr><tr><td>15</td><td>0</td><td>1000</td><td>Housing</td><td>System.String</td></tr><tr><td>16</td><td>0</td><td>1000</td><td>Number of existing credits at this bank</td><td>System.Single</td></tr><tr><td>17</td><td>0</td><td>1000</td><td>Job</td><td>System.String</td></tr><tr><td>18</td><td>0</td><td>1000</td><td>Number of people being liable to provide maintenance for</td><td>System.Single</td></tr><tr><td>19</td><td>0</td><td>1000</td><td>Telephone</td><td>System.String</td></tr><tr><td>20</td><td>0</td><td>1000</td><td>foreign worker</td><td>System.String</td></tr><tr><td>21</td><td>0</td><td>1000</td><td>Class</td><td>System.Single</td></tr></tbody></table>"
      ]
     },
     "execution_count": 8,
     "metadata": {},
     "output_type": "execute_result"
    }
   ],
   "source": [
    "df.Columns"
   ]
  },
  {
   "cell_type": "code",
   "execution_count": 9,
   "metadata": {},
   "outputs": [
    {
     "data": {
      "text/html": [
       "<table><thead><tr><th><i>index</i></th><th>value</th></tr></thead><tbody><tr><td>0</td><td>1169</td></tr><tr><td>1</td><td>5951</td></tr><tr><td>2</td><td>2096</td></tr><tr><td>3</td><td>7882</td></tr><tr><td>4</td><td>4870</td></tr><tr><td>5</td><td>9055</td></tr><tr><td>6</td><td>2835</td></tr><tr><td>7</td><td>6948</td></tr><tr><td>8</td><td>3059</td></tr><tr><td>9</td><td>5234</td></tr><tr><td>10</td><td>1295</td></tr><tr><td>11</td><td>4308</td></tr><tr><td>12</td><td>1567</td></tr><tr><td>13</td><td>1199</td></tr><tr><td>14</td><td>1403</td></tr><tr><td>15</td><td>1282</td></tr><tr><td>16</td><td>2424</td></tr><tr><td>17</td><td>8072</td></tr><tr><td>18</td><td>12579</td></tr><tr><td>19</td><td>3430</td></tr><tr><td>20</td><td>2134</td></tr><tr><td>21</td><td>2647</td></tr><tr><td>22</td><td>2241</td></tr><tr><td>23</td><td>1804</td></tr><tr><td>24</td><td>2069</td></tr><tr><td>25</td><td>1374</td></tr><tr><td>26</td><td>426</td></tr><tr><td>27</td><td>409</td></tr><tr><td>28</td><td>2415</td></tr><tr><td>29</td><td>6836</td></tr><tr><td>30</td><td>1913</td></tr><tr><td>31</td><td>4020</td></tr><tr><td>32</td><td>5866</td></tr><tr><td>33</td><td>1264</td></tr><tr><td>34</td><td>1474</td></tr><tr><td>35</td><td>4746</td></tr><tr><td>36</td><td>6110</td></tr><tr><td>37</td><td>2100</td></tr><tr><td>38</td><td>1225</td></tr><tr><td>39</td><td>458</td></tr><tr><td>40</td><td>2333</td></tr><tr><td>41</td><td>1158</td></tr><tr><td>42</td><td>6204</td></tr><tr><td>43</td><td>6187</td></tr><tr><td>44</td><td>6143</td></tr><tr><td>45</td><td>1393</td></tr><tr><td>46</td><td>2299</td></tr><tr><td>47</td><td>1352</td></tr><tr><td>48</td><td>7228</td></tr><tr><td>49</td><td>2073</td></tr><tr><td>50</td><td>2333</td></tr><tr><td>51</td><td>5965</td></tr><tr><td>52</td><td>1262</td></tr><tr><td>53</td><td>3378</td></tr><tr><td>54</td><td>2225</td></tr><tr><td>55</td><td>783</td></tr><tr><td>56</td><td>6468</td></tr><tr><td>57</td><td>9566</td></tr><tr><td>58</td><td>1961</td></tr><tr><td>59</td><td>6229</td></tr><tr><td>60</td><td>1391</td></tr><tr><td>61</td><td>1537</td></tr><tr><td>62</td><td>1953</td></tr><tr><td>63</td><td>14421</td></tr><tr><td>64</td><td>3181</td></tr><tr><td>65</td><td>5190</td></tr><tr><td>66</td><td>2171</td></tr><tr><td>67</td><td>1007</td></tr><tr><td>68</td><td>1819</td></tr><tr><td>69</td><td>2394</td></tr><tr><td>70</td><td>8133</td></tr><tr><td>71</td><td>730</td></tr><tr><td>72</td><td>1164</td></tr><tr><td>73</td><td>5954</td></tr><tr><td>74</td><td>1977</td></tr><tr><td>75</td><td>1526</td></tr><tr><td>76</td><td>3965</td></tr><tr><td>77</td><td>4771</td></tr><tr><td>78</td><td>9436</td></tr><tr><td>79</td><td>3832</td></tr><tr><td>80</td><td>5943</td></tr><tr><td>81</td><td>1213</td></tr><tr><td>82</td><td>1568</td></tr><tr><td>83</td><td>1755</td></tr><tr><td>84</td><td>2315</td></tr><tr><td>85</td><td>1412</td></tr><tr><td>86</td><td>1295</td></tr><tr><td>87</td><td>12612</td></tr><tr><td>88</td><td>2249</td></tr><tr><td>89</td><td>1108</td></tr><tr><td>90</td><td>618</td></tr><tr><td>91</td><td>1409</td></tr><tr><td>92</td><td>797</td></tr><tr><td>93</td><td>3617</td></tr><tr><td>94</td><td>1318</td></tr><tr><td>95</td><td>15945</td></tr><tr><td>96</td><td>2012</td></tr><tr><td>97</td><td>2622</td></tr><tr><td>98</td><td>2337</td></tr><tr><td>99</td><td>7057</td></tr><tr><td>100</td><td>1469</td></tr><tr><td>101</td><td>2323</td></tr><tr><td>102</td><td>932</td></tr><tr><td>103</td><td>1919</td></tr><tr><td>104</td><td>2445</td></tr><tr><td>105</td><td>11938</td></tr><tr><td>106</td><td>6458</td></tr><tr><td>107</td><td>6078</td></tr><tr><td>108</td><td>7721</td></tr><tr><td>109</td><td>1410</td></tr><tr><td>110</td><td>1449</td></tr><tr><td>111</td><td>392</td></tr><tr><td>112</td><td>6260</td></tr><tr><td>113</td><td>7855</td></tr><tr><td>114</td><td>1680</td></tr><tr><td>115</td><td>3578</td></tr><tr><td>116</td><td>7174</td></tr><tr><td>117</td><td>2132</td></tr><tr><td>118</td><td>4281</td></tr><tr><td>119</td><td>2366</td></tr><tr><td>120</td><td>1835</td></tr><tr><td>121</td><td>3868</td></tr><tr><td>122</td><td>1768</td></tr><tr><td>123</td><td>781</td></tr><tr><td>124</td><td>1924</td></tr><tr><td>125</td><td>2121</td></tr><tr><td>126</td><td>701</td></tr><tr><td>127</td><td>639</td></tr><tr><td>128</td><td>1860</td></tr><tr><td>129</td><td>3499</td></tr><tr><td>130</td><td>8487</td></tr><tr><td>131</td><td>6887</td></tr><tr><td>132</td><td>2708</td></tr><tr><td>133</td><td>1984</td></tr><tr><td>134</td><td>10144</td></tr><tr><td>135</td><td>1240</td></tr><tr><td>136</td><td>8613</td></tr><tr><td>137</td><td>766</td></tr><tr><td>138</td><td>2728</td></tr><tr><td>139</td><td>1881</td></tr><tr><td>140</td><td>709</td></tr><tr><td>141</td><td>4795</td></tr><tr><td>142</td><td>3416</td></tr><tr><td>143</td><td>2462</td></tr><tr><td>144</td><td>2288</td></tr><tr><td>145</td><td>3566</td></tr><tr><td>146</td><td>860</td></tr><tr><td>147</td><td>682</td></tr><tr><td>148</td><td>5371</td></tr><tr><td>149</td><td>1582</td></tr><tr><td>150</td><td>1346</td></tr><tr><td>151</td><td>1924</td></tr><tr><td>152</td><td>5848</td></tr><tr><td>153</td><td>7758</td></tr><tr><td>154</td><td>6967</td></tr><tr><td>155</td><td>1282</td></tr><tr><td>156</td><td>1288</td></tr><tr><td>157</td><td>339</td></tr><tr><td>158</td><td>3512</td></tr><tr><td>159</td><td>1898</td></tr><tr><td>160</td><td>2872</td></tr><tr><td>161</td><td>1055</td></tr><tr><td>162</td><td>1262</td></tr><tr><td>163</td><td>7308</td></tr><tr><td>164</td><td>909</td></tr><tr><td>165</td><td>2978</td></tr><tr><td>166</td><td>1131</td></tr><tr><td>167</td><td>1577</td></tr><tr><td>168</td><td>3972</td></tr><tr><td>169</td><td>1935</td></tr><tr><td>170</td><td>950</td></tr><tr><td>171</td><td>763</td></tr><tr><td>172</td><td>2064</td></tr><tr><td>173</td><td>1414</td></tr><tr><td>174</td><td>3414</td></tr><tr><td>175</td><td>7485</td></tr><tr><td>176</td><td>2577</td></tr><tr><td>177</td><td>338</td></tr><tr><td>178</td><td>1963</td></tr><tr><td>179</td><td>571</td></tr><tr><td>180</td><td>9572</td></tr><tr><td>181</td><td>4455</td></tr><tr><td>182</td><td>1647</td></tr><tr><td>183</td><td>3777</td></tr><tr><td>184</td><td>884</td></tr><tr><td>185</td><td>1360</td></tr><tr><td>186</td><td>5129</td></tr><tr><td>187</td><td>1175</td></tr><tr><td>188</td><td>674</td></tr><tr><td>189</td><td>3244</td></tr><tr><td>190</td><td>4591</td></tr><tr><td>191</td><td>3844</td></tr><tr><td>192</td><td>3915</td></tr><tr><td>193</td><td>2108</td></tr><tr><td>194</td><td>3031</td></tr><tr><td>195</td><td>1501</td></tr><tr><td>196</td><td>1382</td></tr><tr><td>197</td><td>951</td></tr><tr><td>198</td><td>2760</td></tr><tr><td>199</td><td>4297</td></tr><tr><td>200</td><td>936</td></tr><tr><td>201</td><td>1168</td></tr><tr><td>202</td><td>5117</td></tr><tr><td>203</td><td>902</td></tr><tr><td>204</td><td>1495</td></tr><tr><td>205</td><td>10623</td></tr><tr><td>206</td><td>1935</td></tr><tr><td>207</td><td>1424</td></tr><tr><td>208</td><td>6568</td></tr><tr><td>209</td><td>1413</td></tr><tr><td>210</td><td>3074</td></tr><tr><td>211</td><td>3835</td></tr><tr><td>212</td><td>5293</td></tr><tr><td>213</td><td>1908</td></tr><tr><td>214</td><td>3342</td></tr><tr><td>215</td><td>932</td></tr><tr><td>216</td><td>3104</td></tr><tr><td>217</td><td>3913</td></tr><tr><td>218</td><td>3021</td></tr><tr><td>219</td><td>1364</td></tr><tr><td>220</td><td>625</td></tr><tr><td>221</td><td>1200</td></tr><tr><td>222</td><td>707</td></tr><tr><td>223</td><td>2978</td></tr><tr><td>224</td><td>4657</td></tr><tr><td>225</td><td>2613</td></tr><tr><td>226</td><td>10961</td></tr><tr><td>227</td><td>7865</td></tr><tr><td>228</td><td>1478</td></tr><tr><td>229</td><td>3149</td></tr><tr><td>230</td><td>4210</td></tr><tr><td>231</td><td>2507</td></tr><tr><td>232</td><td>2141</td></tr><tr><td>233</td><td>866</td></tr><tr><td>234</td><td>1544</td></tr><tr><td>235</td><td>1823</td></tr><tr><td>236</td><td>14555</td></tr><tr><td>237</td><td>2767</td></tr><tr><td>238</td><td>1291</td></tr><tr><td>239</td><td>2522</td></tr><tr><td>240</td><td>915</td></tr><tr><td>241</td><td>1595</td></tr><tr><td>242</td><td>4605</td></tr><tr><td>243</td><td>1185</td></tr><tr><td>244</td><td>3447</td></tr><tr><td>245</td><td>1258</td></tr><tr><td>246</td><td>717</td></tr><tr><td>247</td><td>1204</td></tr><tr><td>248</td><td>1925</td></tr><tr><td>249</td><td>433</td></tr><tr><td>250</td><td>666</td></tr><tr><td>251</td><td>2251</td></tr><tr><td>252</td><td>2150</td></tr><tr><td>253</td><td>4151</td></tr><tr><td>254</td><td>2030</td></tr><tr><td>255</td><td>7418</td></tr><tr><td>256</td><td>2684</td></tr><tr><td>257</td><td>2149</td></tr><tr><td>258</td><td>3812</td></tr><tr><td>259</td><td>1154</td></tr><tr><td>260</td><td>1657</td></tr><tr><td>261</td><td>1603</td></tr><tr><td>262</td><td>5302</td></tr><tr><td>263</td><td>2748</td></tr><tr><td>264</td><td>1231</td></tr><tr><td>265</td><td>802</td></tr><tr><td>266</td><td>6304</td></tr><tr><td>267</td><td>1533</td></tr><tr><td>268</td><td>8978</td></tr><tr><td>269</td><td>999</td></tr><tr><td>270</td><td>2662</td></tr><tr><td>271</td><td>1402</td></tr><tr><td>272</td><td>12169</td></tr><tr><td>273</td><td>3060</td></tr><tr><td>274</td><td>11998</td></tr><tr><td>275</td><td>2697</td></tr><tr><td>276</td><td>2404</td></tr><tr><td>277</td><td>1262</td></tr><tr><td>278</td><td>4611</td></tr><tr><td>279</td><td>1901</td></tr><tr><td>280</td><td>3368</td></tr><tr><td>281</td><td>1574</td></tr><tr><td>282</td><td>1445</td></tr><tr><td>283</td><td>1520</td></tr><tr><td>284</td><td>3878</td></tr><tr><td>285</td><td>10722</td></tr><tr><td>286</td><td>4788</td></tr><tr><td>287</td><td>7582</td></tr><tr><td>288</td><td>1092</td></tr><tr><td>289</td><td>1024</td></tr><tr><td>290</td><td>1076</td></tr><tr><td>291</td><td>9398</td></tr><tr><td>292</td><td>6419</td></tr><tr><td>293</td><td>4796</td></tr><tr><td>294</td><td>7629</td></tr><tr><td>295</td><td>9960</td></tr><tr><td>296</td><td>4675</td></tr><tr><td>297</td><td>1287</td></tr><tr><td>298</td><td>2515</td></tr><tr><td>299</td><td>2745</td></tr><tr><td>300</td><td>672</td></tr><tr><td>301</td><td>3804</td></tr><tr><td>302</td><td>1344</td></tr><tr><td>303</td><td>1038</td></tr><tr><td>304</td><td>10127</td></tr><tr><td>305</td><td>1543</td></tr><tr><td>306</td><td>4811</td></tr><tr><td>307</td><td>727</td></tr><tr><td>308</td><td>1237</td></tr><tr><td>309</td><td>276</td></tr><tr><td>310</td><td>5381</td></tr><tr><td>311</td><td>5511</td></tr><tr><td>312</td><td>3749</td></tr><tr><td>313</td><td>685</td></tr><tr><td>314</td><td>1494</td></tr><tr><td>315</td><td>2746</td></tr><tr><td>316</td><td>708</td></tr><tr><td>317</td><td>4351</td></tr><tr><td>318</td><td>701</td></tr><tr><td>319</td><td>3643</td></tr><tr><td>320</td><td>4249</td></tr><tr><td>321</td><td>1938</td></tr><tr><td>322</td><td>2910</td></tr><tr><td>323</td><td>2659</td></tr><tr><td>324</td><td>1028</td></tr><tr><td>325</td><td>3398</td></tr><tr><td>326</td><td>5801</td></tr><tr><td>327</td><td>1525</td></tr><tr><td>328</td><td>4473</td></tr><tr><td>329</td><td>1068</td></tr><tr><td>330</td><td>6615</td></tr><tr><td>331</td><td>1864</td></tr><tr><td>332</td><td>7408</td></tr><tr><td>333</td><td>11590</td></tr><tr><td>334</td><td>4110</td></tr><tr><td>335</td><td>3384</td></tr><tr><td>336</td><td>2101</td></tr><tr><td>337</td><td>1275</td></tr><tr><td>338</td><td>4169</td></tr><tr><td>339</td><td>1521</td></tr><tr><td>340</td><td>5743</td></tr><tr><td>341</td><td>3599</td></tr><tr><td>342</td><td>3213</td></tr><tr><td>343</td><td>4439</td></tr><tr><td>344</td><td>3949</td></tr><tr><td>345</td><td>1459</td></tr><tr><td>346</td><td>882</td></tr><tr><td>347</td><td>3758</td></tr><tr><td>348</td><td>1743</td></tr><tr><td>349</td><td>1136</td></tr><tr><td>350</td><td>1236</td></tr><tr><td>351</td><td>959</td></tr><tr><td>352</td><td>3229</td></tr><tr><td>353</td><td>6199</td></tr><tr><td>354</td><td>727</td></tr><tr><td>355</td><td>1246</td></tr><tr><td>356</td><td>2331</td></tr><tr><td>357</td><td>4463</td></tr><tr><td>358</td><td>776</td></tr><tr><td>359</td><td>2406</td></tr><tr><td>360</td><td>1239</td></tr><tr><td>361</td><td>3399</td></tr><tr><td>362</td><td>2247</td></tr><tr><td>363</td><td>1766</td></tr><tr><td>364</td><td>2473</td></tr><tr><td>365</td><td>1542</td></tr><tr><td>366</td><td>3850</td></tr><tr><td>367</td><td>3650</td></tr><tr><td>368</td><td>3446</td></tr><tr><td>369</td><td>3001</td></tr><tr><td>370</td><td>3079</td></tr><tr><td>371</td><td>6070</td></tr><tr><td>372</td><td>2146</td></tr><tr><td>373</td><td>13756</td></tr><tr><td>374</td><td>14782</td></tr><tr><td>375</td><td>7685</td></tr><tr><td>376</td><td>2320</td></tr><tr><td>377</td><td>846</td></tr><tr><td>378</td><td>14318</td></tr><tr><td>379</td><td>362</td></tr><tr><td>380</td><td>2212</td></tr><tr><td>381</td><td>12976</td></tr><tr><td>382</td><td>1283</td></tr><tr><td>383</td><td>1330</td></tr><tr><td>384</td><td>4272</td></tr><tr><td>385</td><td>2238</td></tr><tr><td>386</td><td>1126</td></tr><tr><td>387</td><td>7374</td></tr><tr><td>388</td><td>2326</td></tr><tr><td>389</td><td>1449</td></tr><tr><td>390</td><td>1820</td></tr><tr><td>391</td><td>983</td></tr><tr><td>392</td><td>3249</td></tr><tr><td>393</td><td>1957</td></tr><tr><td>394</td><td>2406</td></tr><tr><td>395</td><td>11760</td></tr><tr><td>396</td><td>2578</td></tr><tr><td>397</td><td>2348</td></tr><tr><td>398</td><td>1223</td></tr><tr><td>399</td><td>1516</td></tr><tr><td>400</td><td>1473</td></tr><tr><td>401</td><td>1887</td></tr><tr><td>402</td><td>8648</td></tr><tr><td>403</td><td>802</td></tr><tr><td>404</td><td>2899</td></tr><tr><td>405</td><td>2039</td></tr><tr><td>406</td><td>2197</td></tr><tr><td>407</td><td>1053</td></tr><tr><td>408</td><td>3235</td></tr><tr><td>409</td><td>939</td></tr><tr><td>410</td><td>1967</td></tr><tr><td>411</td><td>7253</td></tr><tr><td>412</td><td>2292</td></tr><tr><td>413</td><td>1597</td></tr><tr><td>414</td><td>1381</td></tr><tr><td>415</td><td>5842</td></tr><tr><td>416</td><td>2579</td></tr><tr><td>417</td><td>8471</td></tr><tr><td>418</td><td>2782</td></tr><tr><td>419</td><td>1042</td></tr><tr><td>420</td><td>3186</td></tr><tr><td>421</td><td>2028</td></tr><tr><td>422</td><td>958</td></tr><tr><td>423</td><td>1591</td></tr><tr><td>424</td><td>2762</td></tr><tr><td>425</td><td>2779</td></tr><tr><td>426</td><td>2743</td></tr><tr><td>427</td><td>1149</td></tr><tr><td>428</td><td>1313</td></tr><tr><td>429</td><td>1190</td></tr><tr><td>430</td><td>3448</td></tr><tr><td>431</td><td>11328</td></tr><tr><td>432</td><td>1872</td></tr><tr><td>433</td><td>2058</td></tr><tr><td>434</td><td>2136</td></tr><tr><td>435</td><td>1484</td></tr><tr><td>436</td><td>660</td></tr><tr><td>437</td><td>1287</td></tr><tr><td>438</td><td>3394</td></tr><tr><td>439</td><td>609</td></tr><tr><td>440</td><td>1884</td></tr><tr><td>441</td><td>1620</td></tr><tr><td>442</td><td>2629</td></tr><tr><td>443</td><td>719</td></tr><tr><td>444</td><td>5096</td></tr><tr><td>445</td><td>1244</td></tr><tr><td>446</td><td>1842</td></tr><tr><td>447</td><td>2576</td></tr><tr><td>448</td><td>1424</td></tr><tr><td>449</td><td>1512</td></tr><tr><td>450</td><td>11054</td></tr><tr><td>451</td><td>518</td></tr><tr><td>452</td><td>2759</td></tr><tr><td>453</td><td>2670</td></tr><tr><td>454</td><td>4817</td></tr><tr><td>455</td><td>2679</td></tr><tr><td>456</td><td>3905</td></tr><tr><td>457</td><td>3386</td></tr><tr><td>458</td><td>343</td></tr><tr><td>459</td><td>4594</td></tr><tr><td>460</td><td>3620</td></tr><tr><td>461</td><td>1721</td></tr><tr><td>462</td><td>3017</td></tr><tr><td>463</td><td>754</td></tr><tr><td>464</td><td>1950</td></tr><tr><td>465</td><td>2924</td></tr><tr><td>466</td><td>1659</td></tr><tr><td>467</td><td>7238</td></tr><tr><td>468</td><td>2764</td></tr><tr><td>469</td><td>4679</td></tr><tr><td>470</td><td>3092</td></tr><tr><td>471</td><td>448</td></tr><tr><td>472</td><td>654</td></tr><tr><td>473</td><td>1238</td></tr><tr><td>474</td><td>1245</td></tr><tr><td>475</td><td>3114</td></tr><tr><td>476</td><td>2569</td></tr><tr><td>477</td><td>5152</td></tr><tr><td>478</td><td>1037</td></tr><tr><td>479</td><td>1478</td></tr><tr><td>480</td><td>3573</td></tr><tr><td>481</td><td>1201</td></tr><tr><td>482</td><td>3622</td></tr><tr><td>483</td><td>960</td></tr><tr><td>484</td><td>1163</td></tr><tr><td>485</td><td>1209</td></tr><tr><td>486</td><td>3077</td></tr><tr><td>487</td><td>3757</td></tr><tr><td>488</td><td>1418</td></tr><tr><td>489</td><td>3518</td></tr><tr><td>490</td><td>1934</td></tr><tr><td>491</td><td>8318</td></tr><tr><td>492</td><td>1237</td></tr><tr><td>493</td><td>368</td></tr><tr><td>494</td><td>2122</td></tr><tr><td>495</td><td>2996</td></tr><tr><td>496</td><td>9034</td></tr><tr><td>497</td><td>1585</td></tr><tr><td>498</td><td>1301</td></tr><tr><td>499</td><td>1323</td></tr><tr><td>500</td><td>3123</td></tr><tr><td>501</td><td>5493</td></tr><tr><td>502</td><td>1126</td></tr><tr><td>503</td><td>1216</td></tr><tr><td>504</td><td>1207</td></tr><tr><td>505</td><td>1309</td></tr><tr><td>506</td><td>2360</td></tr><tr><td>507</td><td>6850</td></tr><tr><td>508</td><td>1413</td></tr><tr><td>509</td><td>8588</td></tr><tr><td>510</td><td>759</td></tr><tr><td>511</td><td>4686</td></tr><tr><td>512</td><td>2687</td></tr><tr><td>513</td><td>585</td></tr><tr><td>514</td><td>2255</td></tr><tr><td>515</td><td>609</td></tr><tr><td>516</td><td>1361</td></tr><tr><td>517</td><td>7127</td></tr><tr><td>518</td><td>1203</td></tr><tr><td>519</td><td>700</td></tr><tr><td>520</td><td>5507</td></tr><tr><td>521</td><td>3190</td></tr><tr><td>522</td><td>7119</td></tr><tr><td>523</td><td>3488</td></tr><tr><td>524</td><td>1113</td></tr><tr><td>525</td><td>7966</td></tr><tr><td>526</td><td>1532</td></tr><tr><td>527</td><td>1503</td></tr><tr><td>528</td><td>2302</td></tr><tr><td>529</td><td>662</td></tr><tr><td>530</td><td>2273</td></tr><tr><td>531</td><td>2631</td></tr><tr><td>532</td><td>1503</td></tr><tr><td>533</td><td>1311</td></tr><tr><td>534</td><td>3105</td></tr><tr><td>535</td><td>2319</td></tr><tr><td>536</td><td>1374</td></tr><tr><td>537</td><td>3612</td></tr><tr><td>538</td><td>7763</td></tr><tr><td>539</td><td>3049</td></tr><tr><td>540</td><td>1534</td></tr><tr><td>541</td><td>2032</td></tr><tr><td>542</td><td>6350</td></tr><tr><td>543</td><td>2864</td></tr><tr><td>544</td><td>1255</td></tr><tr><td>545</td><td>1333</td></tr><tr><td>546</td><td>2022</td></tr><tr><td>547</td><td>1552</td></tr><tr><td>548</td><td>626</td></tr><tr><td>549</td><td>8858</td></tr><tr><td>550</td><td>996</td></tr><tr><td>551</td><td>1750</td></tr><tr><td>552</td><td>6999</td></tr><tr><td>553</td><td>1995</td></tr><tr><td>554</td><td>1199</td></tr><tr><td>555</td><td>1331</td></tr><tr><td>556</td><td>2278</td></tr><tr><td>557</td><td>5003</td></tr><tr><td>558</td><td>3552</td></tr><tr><td>559</td><td>1928</td></tr><tr><td>560</td><td>2964</td></tr><tr><td>561</td><td>1546</td></tr><tr><td>562</td><td>683</td></tr><tr><td>563</td><td>12389</td></tr><tr><td>564</td><td>4712</td></tr><tr><td>565</td><td>1553</td></tr><tr><td>566</td><td>1372</td></tr><tr><td>567</td><td>2578</td></tr><tr><td>568</td><td>3979</td></tr><tr><td>569</td><td>6758</td></tr><tr><td>570</td><td>3234</td></tr><tr><td>571</td><td>5954</td></tr><tr><td>572</td><td>5433</td></tr><tr><td>573</td><td>806</td></tr><tr><td>574</td><td>1082</td></tr><tr><td>575</td><td>2788</td></tr><tr><td>576</td><td>2930</td></tr><tr><td>577</td><td>1927</td></tr><tr><td>578</td><td>2820</td></tr><tr><td>579</td><td>937</td></tr><tr><td>580</td><td>1056</td></tr><tr><td>581</td><td>3124</td></tr><tr><td>582</td><td>1388</td></tr><tr><td>583</td><td>2384</td></tr><tr><td>584</td><td>2133</td></tr><tr><td>585</td><td>2039</td></tr><tr><td>586</td><td>2799</td></tr><tr><td>587</td><td>1289</td></tr><tr><td>588</td><td>1217</td></tr><tr><td>589</td><td>2246</td></tr><tr><td>590</td><td>385</td></tr><tr><td>591</td><td>1965</td></tr><tr><td>592</td><td>1572</td></tr><tr><td>593</td><td>2718</td></tr><tr><td>594</td><td>1358</td></tr><tr><td>595</td><td>931</td></tr><tr><td>596</td><td>1442</td></tr><tr><td>597</td><td>4241</td></tr><tr><td>598</td><td>2775</td></tr><tr><td>599</td><td>3863</td></tr><tr><td>600</td><td>2329</td></tr><tr><td>601</td><td>918</td></tr><tr><td>602</td><td>1837</td></tr><tr><td>603</td><td>3349</td></tr><tr><td>604</td><td>1275</td></tr><tr><td>605</td><td>2828</td></tr><tr><td>606</td><td>4526</td></tr><tr><td>607</td><td>2671</td></tr><tr><td>608</td><td>2051</td></tr><tr><td>609</td><td>1300</td></tr><tr><td>610</td><td>741</td></tr><tr><td>611</td><td>1240</td></tr><tr><td>612</td><td>3357</td></tr><tr><td>613</td><td>3632</td></tr><tr><td>614</td><td>1808</td></tr><tr><td>615</td><td>12204</td></tr><tr><td>616</td><td>9157</td></tr><tr><td>617</td><td>3676</td></tr><tr><td>618</td><td>3441</td></tr><tr><td>619</td><td>640</td></tr><tr><td>620</td><td>3652</td></tr><tr><td>621</td><td>1530</td></tr><tr><td>622</td><td>3914</td></tr><tr><td>623</td><td>1858</td></tr><tr><td>624</td><td>2600</td></tr><tr><td>625</td><td>1979</td></tr><tr><td>626</td><td>2116</td></tr><tr><td>627</td><td>1437</td></tr><tr><td>628</td><td>4042</td></tr><tr><td>629</td><td>3832</td></tr><tr><td>630</td><td>3660</td></tr><tr><td>631</td><td>1553</td></tr><tr><td>632</td><td>1444</td></tr><tr><td>633</td><td>1980</td></tr><tr><td>634</td><td>1355</td></tr><tr><td>635</td><td>1393</td></tr><tr><td>636</td><td>1376</td></tr><tr><td>637</td><td>15653</td></tr><tr><td>638</td><td>1493</td></tr><tr><td>639</td><td>4370</td></tr><tr><td>640</td><td>750</td></tr><tr><td>641</td><td>1308</td></tr><tr><td>642</td><td>4623</td></tr><tr><td>643</td><td>1851</td></tr><tr><td>644</td><td>1880</td></tr><tr><td>645</td><td>7980</td></tr><tr><td>646</td><td>4583</td></tr><tr><td>647</td><td>1386</td></tr><tr><td>648</td><td>947</td></tr><tr><td>649</td><td>684</td></tr><tr><td>650</td><td>7476</td></tr><tr><td>651</td><td>1922</td></tr><tr><td>652</td><td>2303</td></tr><tr><td>653</td><td>8086</td></tr><tr><td>654</td><td>2346</td></tr><tr><td>655</td><td>3973</td></tr><tr><td>656</td><td>888</td></tr><tr><td>657</td><td>10222</td></tr><tr><td>658</td><td>4221</td></tr><tr><td>659</td><td>6361</td></tr><tr><td>660</td><td>1297</td></tr><tr><td>661</td><td>900</td></tr><tr><td>662</td><td>2241</td></tr><tr><td>663</td><td>1050</td></tr><tr><td>664</td><td>1047</td></tr><tr><td>665</td><td>6314</td></tr><tr><td>666</td><td>3496</td></tr><tr><td>667</td><td>3609</td></tr><tr><td>668</td><td>4843</td></tr><tr><td>669</td><td>3017</td></tr><tr><td>670</td><td>4139</td></tr><tr><td>671</td><td>5742</td></tr><tr><td>672</td><td>10366</td></tr><tr><td>673</td><td>2080</td></tr><tr><td>674</td><td>2580</td></tr><tr><td>675</td><td>4530</td></tr><tr><td>676</td><td>5150</td></tr><tr><td>677</td><td>5595</td></tr><tr><td>678</td><td>2384</td></tr><tr><td>679</td><td>1453</td></tr><tr><td>680</td><td>1538</td></tr><tr><td>681</td><td>2279</td></tr><tr><td>682</td><td>1478</td></tr><tr><td>683</td><td>5103</td></tr><tr><td>684</td><td>9857</td></tr><tr><td>685</td><td>6527</td></tr><tr><td>686</td><td>1347</td></tr><tr><td>687</td><td>2862</td></tr><tr><td>688</td><td>2753</td></tr><tr><td>689</td><td>3651</td></tr><tr><td>690</td><td>975</td></tr><tr><td>691</td><td>2631</td></tr><tr><td>692</td><td>2896</td></tr><tr><td>693</td><td>4716</td></tr><tr><td>694</td><td>2284</td></tr><tr><td>695</td><td>1236</td></tr><tr><td>696</td><td>1103</td></tr><tr><td>697</td><td>926</td></tr><tr><td>698</td><td>1800</td></tr><tr><td>699</td><td>1905</td></tr><tr><td>700</td><td>1123</td></tr><tr><td>701</td><td>6331</td></tr><tr><td>702</td><td>1377</td></tr><tr><td>703</td><td>2503</td></tr><tr><td>704</td><td>2528</td></tr><tr><td>705</td><td>5324</td></tr><tr><td>706</td><td>6560</td></tr><tr><td>707</td><td>2969</td></tr><tr><td>708</td><td>1206</td></tr><tr><td>709</td><td>2118</td></tr><tr><td>710</td><td>629</td></tr><tr><td>711</td><td>1198</td></tr><tr><td>712</td><td>2476</td></tr><tr><td>713</td><td>1138</td></tr><tr><td>714</td><td>14027</td></tr><tr><td>715</td><td>7596</td></tr><tr><td>716</td><td>3077</td></tr><tr><td>717</td><td>1505</td></tr><tr><td>718</td><td>3148</td></tr><tr><td>719</td><td>6148</td></tr><tr><td>720</td><td>1337</td></tr><tr><td>721</td><td>433</td></tr><tr><td>722</td><td>1228</td></tr><tr><td>723</td><td>790</td></tr><tr><td>724</td><td>2570</td></tr><tr><td>725</td><td>250</td></tr><tr><td>726</td><td>1316</td></tr><tr><td>727</td><td>1882</td></tr><tr><td>728</td><td>6416</td></tr><tr><td>729</td><td>1275</td></tr><tr><td>730</td><td>6403</td></tr><tr><td>731</td><td>1987</td></tr><tr><td>732</td><td>760</td></tr><tr><td>733</td><td>2603</td></tr><tr><td>734</td><td>3380</td></tr><tr><td>735</td><td>3990</td></tr><tr><td>736</td><td>11560</td></tr><tr><td>737</td><td>4380</td></tr><tr><td>738</td><td>6761</td></tr><tr><td>739</td><td>4280</td></tr><tr><td>740</td><td>2325</td></tr><tr><td>741</td><td>1048</td></tr><tr><td>742</td><td>3160</td></tr><tr><td>743</td><td>2483</td></tr><tr><td>744</td><td>14179</td></tr><tr><td>745</td><td>1797</td></tr><tr><td>746</td><td>2511</td></tr><tr><td>747</td><td>1274</td></tr><tr><td>748</td><td>5248</td></tr><tr><td>749</td><td>3029</td></tr><tr><td>750</td><td>428</td></tr><tr><td>751</td><td>976</td></tr><tr><td>752</td><td>841</td></tr><tr><td>753</td><td>5771</td></tr><tr><td>754</td><td>1555</td></tr><tr><td>755</td><td>1285</td></tr><tr><td>756</td><td>1299</td></tr><tr><td>757</td><td>1271</td></tr><tr><td>758</td><td>1393</td></tr><tr><td>759</td><td>691</td></tr><tr><td>760</td><td>5045</td></tr><tr><td>761</td><td>2124</td></tr><tr><td>762</td><td>2214</td></tr><tr><td>763</td><td>12680</td></tr><tr><td>764</td><td>2463</td></tr><tr><td>765</td><td>1155</td></tr><tr><td>766</td><td>3108</td></tr><tr><td>767</td><td>2901</td></tr><tr><td>768</td><td>3617</td></tr><tr><td>769</td><td>1655</td></tr><tr><td>770</td><td>2812</td></tr><tr><td>771</td><td>8065</td></tr><tr><td>772</td><td>3275</td></tr><tr><td>773</td><td>2223</td></tr><tr><td>774</td><td>1480</td></tr><tr><td>775</td><td>1371</td></tr><tr><td>776</td><td>3535</td></tr><tr><td>777</td><td>3509</td></tr><tr><td>778</td><td>5711</td></tr><tr><td>779</td><td>3872</td></tr><tr><td>780</td><td>4933</td></tr><tr><td>781</td><td>1940</td></tr><tr><td>782</td><td>1410</td></tr><tr><td>783</td><td>836</td></tr><tr><td>784</td><td>6468</td></tr><tr><td>785</td><td>1941</td></tr><tr><td>786</td><td>2675</td></tr><tr><td>787</td><td>2751</td></tr><tr><td>788</td><td>6224</td></tr><tr><td>789</td><td>5998</td></tr><tr><td>790</td><td>1188</td></tr><tr><td>791</td><td>6313</td></tr><tr><td>792</td><td>1221</td></tr><tr><td>793</td><td>2892</td></tr><tr><td>794</td><td>3062</td></tr><tr><td>795</td><td>2301</td></tr><tr><td>796</td><td>7511</td></tr><tr><td>797</td><td>1258</td></tr><tr><td>798</td><td>717</td></tr><tr><td>799</td><td>1549</td></tr><tr><td>800</td><td>1597</td></tr><tr><td>801</td><td>1795</td></tr><tr><td>802</td><td>4272</td></tr><tr><td>803</td><td>976</td></tr><tr><td>804</td><td>7472</td></tr><tr><td>805</td><td>9271</td></tr><tr><td>806</td><td>590</td></tr><tr><td>807</td><td>930</td></tr><tr><td>808</td><td>9283</td></tr><tr><td>809</td><td>1778</td></tr><tr><td>810</td><td>907</td></tr><tr><td>811</td><td>484</td></tr><tr><td>812</td><td>9629</td></tr><tr><td>813</td><td>3051</td></tr><tr><td>814</td><td>3931</td></tr><tr><td>815</td><td>7432</td></tr><tr><td>816</td><td>1338</td></tr><tr><td>817</td><td>1554</td></tr><tr><td>818</td><td>15857</td></tr><tr><td>819</td><td>1345</td></tr><tr><td>820</td><td>1101</td></tr><tr><td>821</td><td>3016</td></tr><tr><td>822</td><td>2712</td></tr><tr><td>823</td><td>731</td></tr><tr><td>824</td><td>3780</td></tr><tr><td>825</td><td>1602</td></tr><tr><td>826</td><td>3966</td></tr><tr><td>827</td><td>4165</td></tr><tr><td>828</td><td>8335</td></tr><tr><td>829</td><td>6681</td></tr><tr><td>830</td><td>2375</td></tr><tr><td>831</td><td>1216</td></tr><tr><td>832</td><td>11816</td></tr><tr><td>833</td><td>5084</td></tr><tr><td>834</td><td>2327</td></tr><tr><td>835</td><td>1082</td></tr><tr><td>836</td><td>886</td></tr><tr><td>837</td><td>601</td></tr><tr><td>838</td><td>2957</td></tr><tr><td>839</td><td>2611</td></tr><tr><td>840</td><td>5179</td></tr><tr><td>841</td><td>2993</td></tr><tr><td>842</td><td>1943</td></tr><tr><td>843</td><td>1559</td></tr><tr><td>844</td><td>3422</td></tr><tr><td>845</td><td>3976</td></tr><tr><td>846</td><td>6761</td></tr><tr><td>847</td><td>1249</td></tr><tr><td>848</td><td>1364</td></tr><tr><td>849</td><td>709</td></tr><tr><td>850</td><td>2235</td></tr><tr><td>851</td><td>4042</td></tr><tr><td>852</td><td>1471</td></tr><tr><td>853</td><td>1442</td></tr><tr><td>854</td><td>10875</td></tr><tr><td>855</td><td>1474</td></tr><tr><td>856</td><td>894</td></tr><tr><td>857</td><td>3343</td></tr><tr><td>858</td><td>3959</td></tr><tr><td>859</td><td>3577</td></tr><tr><td>860</td><td>5804</td></tr><tr><td>861</td><td>2169</td></tr><tr><td>862</td><td>2439</td></tr><tr><td>863</td><td>4526</td></tr><tr><td>864</td><td>2210</td></tr><tr><td>865</td><td>2221</td></tr><tr><td>866</td><td>2389</td></tr><tr><td>867</td><td>3331</td></tr><tr><td>868</td><td>7409</td></tr><tr><td>869</td><td>652</td></tr><tr><td>870</td><td>7678</td></tr><tr><td>871</td><td>1343</td></tr><tr><td>872</td><td>1382</td></tr><tr><td>873</td><td>874</td></tr><tr><td>874</td><td>3590</td></tr><tr><td>875</td><td>1322</td></tr><tr><td>876</td><td>1940</td></tr><tr><td>877</td><td>3595</td></tr><tr><td>878</td><td>1422</td></tr><tr><td>879</td><td>6742</td></tr><tr><td>880</td><td>7814</td></tr><tr><td>881</td><td>9277</td></tr><tr><td>882</td><td>2181</td></tr><tr><td>883</td><td>1098</td></tr><tr><td>884</td><td>4057</td></tr><tr><td>885</td><td>795</td></tr><tr><td>886</td><td>2825</td></tr><tr><td>887</td><td>15672</td></tr><tr><td>888</td><td>6614</td></tr><tr><td>889</td><td>7824</td></tr><tr><td>890</td><td>2442</td></tr><tr><td>891</td><td>1829</td></tr><tr><td>892</td><td>2171</td></tr><tr><td>893</td><td>5800</td></tr><tr><td>894</td><td>1169</td></tr><tr><td>895</td><td>8947</td></tr><tr><td>896</td><td>2606</td></tr><tr><td>897</td><td>1592</td></tr><tr><td>898</td><td>2186</td></tr><tr><td>899</td><td>4153</td></tr><tr><td>900</td><td>2625</td></tr><tr><td>901</td><td>3485</td></tr><tr><td>902</td><td>10477</td></tr><tr><td>903</td><td>1386</td></tr><tr><td>904</td><td>1278</td></tr><tr><td>905</td><td>1107</td></tr><tr><td>906</td><td>3763</td></tr><tr><td>907</td><td>3711</td></tr><tr><td>908</td><td>3594</td></tr><tr><td>909</td><td>3195</td></tr><tr><td>910</td><td>4454</td></tr><tr><td>911</td><td>4736</td></tr><tr><td>912</td><td>2991</td></tr><tr><td>913</td><td>2142</td></tr><tr><td>914</td><td>3161</td></tr><tr><td>915</td><td>18424</td></tr><tr><td>916</td><td>2848</td></tr><tr><td>917</td><td>14896</td></tr><tr><td>918</td><td>2359</td></tr><tr><td>919</td><td>3345</td></tr><tr><td>920</td><td>1817</td></tr><tr><td>921</td><td>12749</td></tr><tr><td>922</td><td>1366</td></tr><tr><td>923</td><td>2002</td></tr><tr><td>924</td><td>6872</td></tr><tr><td>925</td><td>697</td></tr><tr><td>926</td><td>1049</td></tr><tr><td>927</td><td>10297</td></tr><tr><td>928</td><td>1867</td></tr><tr><td>929</td><td>1344</td></tr><tr><td>930</td><td>1747</td></tr><tr><td>931</td><td>1670</td></tr><tr><td>932</td><td>1224</td></tr><tr><td>933</td><td>522</td></tr><tr><td>934</td><td>1498</td></tr><tr><td>935</td><td>1919</td></tr><tr><td>936</td><td>745</td></tr><tr><td>937</td><td>2063</td></tr><tr><td>938</td><td>6288</td></tr><tr><td>939</td><td>6842</td></tr><tr><td>940</td><td>3527</td></tr><tr><td>941</td><td>1546</td></tr><tr><td>942</td><td>929</td></tr><tr><td>943</td><td>1455</td></tr><tr><td>944</td><td>1845</td></tr><tr><td>945</td><td>8358</td></tr><tr><td>946</td><td>3349</td></tr><tr><td>947</td><td>2859</td></tr><tr><td>948</td><td>1533</td></tr><tr><td>949</td><td>3621</td></tr><tr><td>950</td><td>3590</td></tr><tr><td>951</td><td>2145</td></tr><tr><td>952</td><td>4113</td></tr><tr><td>953</td><td>10974</td></tr><tr><td>954</td><td>1893</td></tr><tr><td>955</td><td>1231</td></tr><tr><td>956</td><td>3656</td></tr><tr><td>957</td><td>1154</td></tr><tr><td>958</td><td>4006</td></tr><tr><td>959</td><td>3069</td></tr><tr><td>960</td><td>1740</td></tr><tr><td>961</td><td>2353</td></tr><tr><td>962</td><td>3556</td></tr><tr><td>963</td><td>2397</td></tr><tr><td>964</td><td>454</td></tr><tr><td>965</td><td>1715</td></tr><tr><td>966</td><td>2520</td></tr><tr><td>967</td><td>3568</td></tr><tr><td>968</td><td>7166</td></tr><tr><td>969</td><td>3939</td></tr><tr><td>970</td><td>1514</td></tr><tr><td>971</td><td>7393</td></tr><tr><td>972</td><td>1193</td></tr><tr><td>973</td><td>7297</td></tr><tr><td>974</td><td>2831</td></tr><tr><td>975</td><td>1258</td></tr><tr><td>976</td><td>753</td></tr><tr><td>977</td><td>2427</td></tr><tr><td>978</td><td>2538</td></tr><tr><td>979</td><td>1264</td></tr><tr><td>980</td><td>8386</td></tr><tr><td>981</td><td>4844</td></tr><tr><td>982</td><td>2923</td></tr><tr><td>983</td><td>8229</td></tr><tr><td>984</td><td>2028</td></tr><tr><td>985</td><td>1433</td></tr><tr><td>986</td><td>6289</td></tr><tr><td>987</td><td>1409</td></tr><tr><td>988</td><td>6579</td></tr><tr><td>989</td><td>1743</td></tr><tr><td>990</td><td>3565</td></tr><tr><td>991</td><td>1569</td></tr><tr><td>992</td><td>1936</td></tr><tr><td>993</td><td>3959</td></tr><tr><td>994</td><td>2390</td></tr><tr><td>995</td><td>1736</td></tr><tr><td>996</td><td>3857</td></tr><tr><td>997</td><td>804</td></tr><tr><td>998</td><td>1845</td></tr><tr><td>999</td><td>4576</td></tr></tbody></table>"
      ]
     },
     "execution_count": 9,
     "metadata": {},
     "output_type": "execute_result"
    }
   ],
   "source": [
    "df[\"Credit amount\"]"
   ]
  },
  {
   "cell_type": "code",
   "execution_count": 10,
   "metadata": {},
   "outputs": [],
   "source": [
    "using XPlot.Plotly;"
   ]
  },
  {
   "cell_type": "code",
   "execution_count": 11,
   "metadata": {},
   "outputs": [],
   "source": [
    "var chart = Chart.Plot(new Graph.Scatter() {y = df[\"Credit amount\"]});"
   ]
  },
  {
   "cell_type": "code",
   "execution_count": 12,
   "metadata": {},
   "outputs": [
    {
     "data": {
      "text/html": [
       "<div id=\"16b6fff1-ced3-4102-9dd0-304c863b3496\" style=\"width: 900px; height: 500px;\"></div><script type=\"text/javascript\">\n",
       "\r\n",
       "var renderPlotly = function() {\r\n",
       "    var xplotRequire = requirejs.config({context:'xplot-2.0.0',paths:{plotly:'https://cdn.plot.ly/plotly-1.49.2.min'}});\r\n",
       "    xplotRequire(['plotly'], function(Plotly) {\n",
       "\n",
       "            var data = [{\"type\":\"scatter\",\"y\":[1169.0,5951.0,2096.0,7882.0,4870.0,9055.0,2835.0,6948.0,3059.0,5234.0,1295.0,4308.0,1567.0,1199.0,1403.0,1282.0,2424.0,8072.0,12579.0,3430.0,2134.0,2647.0,2241.0,1804.0,2069.0,1374.0,426.0,409.0,2415.0,6836.0,1913.0,4020.0,5866.0,1264.0,1474.0,4746.0,6110.0,2100.0,1225.0,458.0,2333.0,1158.0,6204.0,6187.0,6143.0,1393.0,2299.0,1352.0,7228.0,2073.0,2333.0,5965.0,1262.0,3378.0,2225.0,783.0,6468.0,9566.0,1961.0,6229.0,1391.0,1537.0,1953.0,14421.0,3181.0,5190.0,2171.0,1007.0,1819.0,2394.0,8133.0,730.0,1164.0,5954.0,1977.0,1526.0,3965.0,4771.0,9436.0,3832.0,5943.0,1213.0,1568.0,1755.0,2315.0,1412.0,1295.0,12612.0,2249.0,1108.0,618.0,1409.0,797.0,3617.0,1318.0,15945.0,2012.0,2622.0,2337.0,7057.0,1469.0,2323.0,932.0,1919.0,2445.0,11938.0,6458.0,6078.0,7721.0,1410.0,1449.0,392.0,6260.0,7855.0,1680.0,3578.0,7174.0,2132.0,4281.0,2366.0,1835.0,3868.0,1768.0,781.0,1924.0,2121.0,701.0,639.0,1860.0,3499.0,8487.0,6887.0,2708.0,1984.0,10144.0,1240.0,8613.0,766.0,2728.0,1881.0,709.0,4795.0,3416.0,2462.0,2288.0,3566.0,860.0,682.0,5371.0,1582.0,1346.0,1924.0,5848.0,7758.0,6967.0,1282.0,1288.0,339.0,3512.0,1898.0,2872.0,1055.0,1262.0,7308.0,909.0,2978.0,1131.0,1577.0,3972.0,1935.0,950.0,763.0,2064.0,1414.0,3414.0,7485.0,2577.0,338.0,1963.0,571.0,9572.0,4455.0,1647.0,3777.0,884.0,1360.0,5129.0,1175.0,674.0,3244.0,4591.0,3844.0,3915.0,2108.0,3031.0,1501.0,1382.0,951.0,2760.0,4297.0,936.0,1168.0,5117.0,902.0,1495.0,10623.0,1935.0,1424.0,6568.0,1413.0,3074.0,3835.0,5293.0,1908.0,3342.0,932.0,3104.0,3913.0,3021.0,1364.0,625.0,1200.0,707.0,2978.0,4657.0,2613.0,10961.0,7865.0,1478.0,3149.0,4210.0,2507.0,2141.0,866.0,1544.0,1823.0,14555.0,2767.0,1291.0,2522.0,915.0,1595.0,4605.0,1185.0,3447.0,1258.0,717.0,1204.0,1925.0,433.0,666.0,2251.0,2150.0,4151.0,2030.0,7418.0,2684.0,2149.0,3812.0,1154.0,1657.0,1603.0,5302.0,2748.0,1231.0,802.0,6304.0,1533.0,8978.0,999.0,2662.0,1402.0,12169.0,3060.0,11998.0,2697.0,2404.0,1262.0,4611.0,1901.0,3368.0,1574.0,1445.0,1520.0,3878.0,10722.0,4788.0,7582.0,1092.0,1024.0,1076.0,9398.0,6419.0,4796.0,7629.0,9960.0,4675.0,1287.0,2515.0,2745.0,672.0,3804.0,1344.0,1038.0,10127.0,1543.0,4811.0,727.0,1237.0,276.0,5381.0,5511.0,3749.0,685.0,1494.0,2746.0,708.0,4351.0,701.0,3643.0,4249.0,1938.0,2910.0,2659.0,1028.0,3398.0,5801.0,1525.0,4473.0,1068.0,6615.0,1864.0,7408.0,11590.0,4110.0,3384.0,2101.0,1275.0,4169.0,1521.0,5743.0,3599.0,3213.0,4439.0,3949.0,1459.0,882.0,3758.0,1743.0,1136.0,1236.0,959.0,3229.0,6199.0,727.0,1246.0,2331.0,4463.0,776.0,2406.0,1239.0,3399.0,2247.0,1766.0,2473.0,1542.0,3850.0,3650.0,3446.0,3001.0,3079.0,6070.0,2146.0,13756.0,14782.0,7685.0,2320.0,846.0,14318.0,362.0,2212.0,12976.0,1283.0,1330.0,4272.0,2238.0,1126.0,7374.0,2326.0,1449.0,1820.0,983.0,3249.0,1957.0,2406.0,11760.0,2578.0,2348.0,1223.0,1516.0,1473.0,1887.0,8648.0,802.0,2899.0,2039.0,2197.0,1053.0,3235.0,939.0,1967.0,7253.0,2292.0,1597.0,1381.0,5842.0,2579.0,8471.0,2782.0,1042.0,3186.0,2028.0,958.0,1591.0,2762.0,2779.0,2743.0,1149.0,1313.0,1190.0,3448.0,11328.0,1872.0,2058.0,2136.0,1484.0,660.0,1287.0,3394.0,609.0,1884.0,1620.0,2629.0,719.0,5096.0,1244.0,1842.0,2576.0,1424.0,1512.0,11054.0,518.0,2759.0,2670.0,4817.0,2679.0,3905.0,3386.0,343.0,4594.0,3620.0,1721.0,3017.0,754.0,1950.0,2924.0,1659.0,7238.0,2764.0,4679.0,3092.0,448.0,654.0,1238.0,1245.0,3114.0,2569.0,5152.0,1037.0,1478.0,3573.0,1201.0,3622.0,960.0,1163.0,1209.0,3077.0,3757.0,1418.0,3518.0,1934.0,8318.0,1237.0,368.0,2122.0,2996.0,9034.0,1585.0,1301.0,1323.0,3123.0,5493.0,1126.0,1216.0,1207.0,1309.0,2360.0,6850.0,1413.0,8588.0,759.0,4686.0,2687.0,585.0,2255.0,609.0,1361.0,7127.0,1203.0,700.0,5507.0,3190.0,7119.0,3488.0,1113.0,7966.0,1532.0,1503.0,2302.0,662.0,2273.0,2631.0,1503.0,1311.0,3105.0,2319.0,1374.0,3612.0,7763.0,3049.0,1534.0,2032.0,6350.0,2864.0,1255.0,1333.0,2022.0,1552.0,626.0,8858.0,996.0,1750.0,6999.0,1995.0,1199.0,1331.0,2278.0,5003.0,3552.0,1928.0,2964.0,1546.0,683.0,12389.0,4712.0,1553.0,1372.0,2578.0,3979.0,6758.0,3234.0,5954.0,5433.0,806.0,1082.0,2788.0,2930.0,1927.0,2820.0,937.0,1056.0,3124.0,1388.0,2384.0,2133.0,2039.0,2799.0,1289.0,1217.0,2246.0,385.0,1965.0,1572.0,2718.0,1358.0,931.0,1442.0,4241.0,2775.0,3863.0,2329.0,918.0,1837.0,3349.0,1275.0,2828.0,4526.0,2671.0,2051.0,1300.0,741.0,1240.0,3357.0,3632.0,1808.0,12204.0,9157.0,3676.0,3441.0,640.0,3652.0,1530.0,3914.0,1858.0,2600.0,1979.0,2116.0,1437.0,4042.0,3832.0,3660.0,1553.0,1444.0,1980.0,1355.0,1393.0,1376.0,15653.0,1493.0,4370.0,750.0,1308.0,4623.0,1851.0,1880.0,7980.0,4583.0,1386.0,947.0,684.0,7476.0,1922.0,2303.0,8086.0,2346.0,3973.0,888.0,10222.0,4221.0,6361.0,1297.0,900.0,2241.0,1050.0,1047.0,6314.0,3496.0,3609.0,4843.0,3017.0,4139.0,5742.0,10366.0,2080.0,2580.0,4530.0,5150.0,5595.0,2384.0,1453.0,1538.0,2279.0,1478.0,5103.0,9857.0,6527.0,1347.0,2862.0,2753.0,3651.0,975.0,2631.0,2896.0,4716.0,2284.0,1236.0,1103.0,926.0,1800.0,1905.0,1123.0,6331.0,1377.0,2503.0,2528.0,5324.0,6560.0,2969.0,1206.0,2118.0,629.0,1198.0,2476.0,1138.0,14027.0,7596.0,3077.0,1505.0,3148.0,6148.0,1337.0,433.0,1228.0,790.0,2570.0,250.0,1316.0,1882.0,6416.0,1275.0,6403.0,1987.0,760.0,2603.0,3380.0,3990.0,11560.0,4380.0,6761.0,4280.0,2325.0,1048.0,3160.0,2483.0,14179.0,1797.0,2511.0,1274.0,5248.0,3029.0,428.0,976.0,841.0,5771.0,1555.0,1285.0,1299.0,1271.0,1393.0,691.0,5045.0,2124.0,2214.0,12680.0,2463.0,1155.0,3108.0,2901.0,3617.0,1655.0,2812.0,8065.0,3275.0,2223.0,1480.0,1371.0,3535.0,3509.0,5711.0,3872.0,4933.0,1940.0,1410.0,836.0,6468.0,1941.0,2675.0,2751.0,6224.0,5998.0,1188.0,6313.0,1221.0,2892.0,3062.0,2301.0,7511.0,1258.0,717.0,1549.0,1597.0,1795.0,4272.0,976.0,7472.0,9271.0,590.0,930.0,9283.0,1778.0,907.0,484.0,9629.0,3051.0,3931.0,7432.0,1338.0,1554.0,15857.0,1345.0,1101.0,3016.0,2712.0,731.0,3780.0,1602.0,3966.0,4165.0,8335.0,6681.0,2375.0,1216.0,11816.0,5084.0,2327.0,1082.0,886.0,601.0,2957.0,2611.0,5179.0,2993.0,1943.0,1559.0,3422.0,3976.0,6761.0,1249.0,1364.0,709.0,2235.0,4042.0,1471.0,1442.0,10875.0,1474.0,894.0,3343.0,3959.0,3577.0,5804.0,2169.0,2439.0,4526.0,2210.0,2221.0,2389.0,3331.0,7409.0,652.0,7678.0,1343.0,1382.0,874.0,3590.0,1322.0,1940.0,3595.0,1422.0,6742.0,7814.0,9277.0,2181.0,1098.0,4057.0,795.0,2825.0,15672.0,6614.0,7824.0,2442.0,1829.0,2171.0,5800.0,1169.0,8947.0,2606.0,1592.0,2186.0,4153.0,2625.0,3485.0,10477.0,1386.0,1278.0,1107.0,3763.0,3711.0,3594.0,3195.0,4454.0,4736.0,2991.0,2142.0,3161.0,18424.0,2848.0,14896.0,2359.0,3345.0,1817.0,12749.0,1366.0,2002.0,6872.0,697.0,1049.0,10297.0,1867.0,1344.0,1747.0,1670.0,1224.0,522.0,1498.0,1919.0,745.0,2063.0,6288.0,6842.0,3527.0,1546.0,929.0,1455.0,1845.0,8358.0,3349.0,2859.0,1533.0,3621.0,3590.0,2145.0,4113.0,10974.0,1893.0,1231.0,3656.0,1154.0,4006.0,3069.0,1740.0,2353.0,3556.0,2397.0,454.0,1715.0,2520.0,3568.0,7166.0,3939.0,1514.0,7393.0,1193.0,7297.0,2831.0,1258.0,753.0,2427.0,2538.0,1264.0,8386.0,4844.0,2923.0,8229.0,2028.0,1433.0,6289.0,1409.0,6579.0,1743.0,3565.0,1569.0,1936.0,3959.0,2390.0,1736.0,3857.0,804.0,1845.0,4576.0]}];\n",
       "            var layout = \"\";\n",
       "            Plotly.newPlot('16b6fff1-ced3-4102-9dd0-304c863b3496', data, layout);\n",
       "        });\r\n",
       "};\r\n",
       "if ((typeof(requirejs) !==  typeof(Function)) || (typeof(requirejs.config) !== typeof(Function))) { \r\n",
       "    var script = document.createElement(\"script\"); \r\n",
       "    script.setAttribute(\"src\", \"https://cdnjs.cloudflare.com/ajax/libs/require.js/2.3.6/require.min.js\"); \r\n",
       "    script.onload = function(){\r\n",
       "        renderPlotly();\r\n",
       "    };\r\n",
       "    document.getElementsByTagName(\"head\")[0].appendChild(script); \r\n",
       "}\r\n",
       "else {\r\n",
       "    renderPlotly();\r\n",
       "}\n",
       "</script>"
      ]
     },
     "execution_count": 12,
     "metadata": {},
     "output_type": "execute_result"
    }
   ],
   "source": [
    "chart"
   ]
  },
  {
   "cell_type": "code",
   "execution_count": null,
   "metadata": {},
   "outputs": [],
   "source": []
  }
 ],
 "metadata": {
  "kernelspec": {
   "display_name": ".NET (C#)",
   "language": "C#",
   "name": ".net-csharp"
  },
  "language_info": {
   "file_extension": ".cs",
   "mimetype": "text/x-csharp",
   "name": "C#",
   "pygments_lexer": "csharp",
   "version": "8.0"
  }
 },
 "nbformat": 4,
 "nbformat_minor": 2
}
