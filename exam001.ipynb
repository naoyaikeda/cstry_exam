{
 "cells": [
  {
   "cell_type": "code",
   "execution_count": 1,
   "metadata": {},
   "outputs": [],
   "source": [
    "using System;"
   ]
  },
  {
   "cell_type": "code",
   "execution_count": 2,
   "metadata": {},
   "outputs": [
    {
     "data": {
      "text/html": [
       "Installing package Microsoft.Data.Analysis, version 0.2.0....................................................done!"
      ]
     },
     "metadata": {},
     "output_type": "display_data"
    },
    {
     "data": {
      "text/html": [
       "Successfully added reference to package Microsoft.Data.Analysis, version 0.2.0"
      ]
     },
     "metadata": {},
     "output_type": "display_data"
    }
   ],
   "source": [
    "#r \"nuget:Microsoft.Data.Analysis, 0.2.0\""
   ]
  },
  {
   "cell_type": "code",
   "execution_count": 3,
   "metadata": {},
   "outputs": [],
   "source": [
    "using Microsoft.Data.Analysis;"
   ]
  },
  {
   "cell_type": "code",
   "execution_count": 4,
   "metadata": {},
   "outputs": [
    {
     "data": {
      "text/html": [
       "Installing package MathNet.Numerics, version 4.9.0..............done!"
      ]
     },
     "metadata": {},
     "output_type": "display_data"
    },
    {
     "data": {
      "text/html": [
       "Successfully added reference to package MathNet.Numerics, version 4.9.0"
      ]
     },
     "metadata": {},
     "output_type": "display_data"
    }
   ],
   "source": [
    "#r \"nuget:MathNet.Numerics,4.9.0\""
   ]
  },
  {
   "cell_type": "code",
   "execution_count": 5,
   "metadata": {},
   "outputs": [
    {
     "data": {
      "text/html": [
       "Installing package XPlot.Plotly........................done!"
      ]
     },
     "metadata": {},
     "output_type": "display_data"
    },
    {
     "data": {
      "text/html": [
       "Successfully added reference to package XPlot.Plotly, version 3.0.1"
      ]
     },
     "metadata": {},
     "output_type": "display_data"
    }
   ],
   "source": [
    "#r \"nuget:XPlot.Plotly\""
   ]
  },
  {
   "cell_type": "code",
   "execution_count": 6,
   "metadata": {},
   "outputs": [],
   "source": [
    "var df = Microsoft.Data.Analysis.DataFrame.LoadCsv(\"Data/german.csv\");"
   ]
  },
  {
   "cell_type": "code",
   "execution_count": 7,
   "metadata": {},
   "outputs": [
    {
     "data": {
      "text/html": [
       "<table><thead><tr><th>Columns</th><th>Rows</th></tr></thead><tbody><tr><td>[ [ 0, 1, 2, 3, 4, 5, 6, 7, 8, 9 ... (990 more) ], [ A11, A12, A14, A11, A11, A14, A14, A12, A14, A12 ... (990 more) ], [ 6, 48, 12, 42, 24, 36, 24, 36, 12, 30 ... (990 more) ], [ A34, A32, A34, A32, A33, A32, A32, A32, A32, A34 ... (990 more) ], [ A43, A43, A46, A42, A40, A46, A42, A41, A43, A40 ... (990 more) ], [ 1169, 5951, 2096, 7882, 4870, 9055, 2835, 6948, 3059, 5234 ... (990 more) ], [ A65, A61, A61, A61, A61, A65, A63, A61, A64, A61 ... (990 more) ], [ A75, A73, A74, A74, A73, A73, A75, A73, A74, A71 ... (990 more) ], [ 4, 2, 2, 2, 3, 2, 3, 2, 2, 4 ... (990 more) ], [ A93, A92, A93, A93, A93, A93, A93, A93, A91, A94 ... (990 more) ] ... (12 more) ]</td><td>[ [ 0, A11, 6, A34, A43, 1169, A65, A75, 4, A93 ... (12 more) ], [ 1, A12, 48, A32, A43, 5951, A61, A73, 2, A92 ... (12 more) ], [ 2, A14, 12, A34, A46, 2096, A61, A74, 2, A93 ... (12 more) ], [ 3, A11, 42, A32, A42, 7882, A61, A74, 2, A93 ... (12 more) ], [ 4, A11, 24, A33, A40, 4870, A61, A73, 3, A93 ... (12 more) ], [ 5, A14, 36, A32, A46, 9055, A65, A73, 2, A93 ... (12 more) ], [ 6, A14, 24, A32, A42, 2835, A63, A75, 3, A93 ... (12 more) ], [ 7, A12, 36, A32, A41, 6948, A61, A73, 2, A93 ... (12 more) ], [ 8, A14, 12, A32, A43, 3059, A64, A74, 2, A91 ... (12 more) ], [ 9, A12, 30, A34, A40, 5234, A61, A71, 4, A94 ... (12 more) ] ... (990 more) ]</td></tr></tbody></table>"
      ]
     },
     "execution_count": 7,
     "metadata": {},
     "output_type": "execute_result"
    }
   ],
   "source": [
    "df"
   ]
  }
 ],
 "metadata": {
  "kernelspec": {
   "display_name": ".NET (C#)",
   "language": "C#",
   "name": ".net-csharp"
  },
  "language_info": {
   "file_extension": ".cs",
   "mimetype": "text/x-csharp",
   "name": "C#",
   "pygments_lexer": "csharp",
   "version": "8.0"
  }
 },
 "nbformat": 4,
 "nbformat_minor": 2
}
